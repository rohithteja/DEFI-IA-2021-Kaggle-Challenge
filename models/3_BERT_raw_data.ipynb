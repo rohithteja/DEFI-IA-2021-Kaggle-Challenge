{
 "cells": [
  {
   "cell_type": "markdown",
   "metadata": {
    "id": "4ezF7jOFfaIE"
   },
   "source": [
    "\n",
    "**DATA SET**: Non Preprocessed\n",
    "\n",
    "**Model Bert**: bert-base-uncased\n",
    "\n",
    "**Fairness**: 4.159907527760487\n",
    "\n",
    "Best model was acquired in the 1st Epoch:\n",
    "*  Training loss (TL):  0,664541470789616\n",
    "*  Validation loss (VL):  0,593840423587227\n",
    "*  |TL - VL| =  0,070701047202389\n",
    "*  F1 Score (Macro): 0,790030958067818\n",
    "\n",
    "**Installing transformers**:\n",
    " \n",
    "*  pip install transformers\n",
    "\n",
    "\n",
    "**References**:\n",
    "\n",
    "\n",
    "*   [Bert: Pre-training of deep bidirectional transformers for language understanding](https://arxiv.org/pdf/1810.04805.pdf?source=post_elevate_sequence_page---------------------------)\n",
    "*   [BERT](https://huggingface.co/transformers/model_doc/bert.html) \n",
    "*   [BERT For Sequence Classification](https://huggingface.co/transformers/model_doc/bert.html#bertforsequenceclassification)\n",
    "*   [Multi Class Text Classification With Deep Learning Using BERT](https://towardsdatascience.com/multi-class-text-classification-with-deep-learning-using-bert-b59ca2f5c613)"
   ]
  },
  {
   "cell_type": "code",
   "execution_count": null,
   "metadata": {
    "id": "12ew8T8ZBqng"
   },
   "outputs": [],
   "source": [
    "import numpy as np\n",
    "import pandas as pd\n",
    "import random\n",
    "\n",
    "from sklearn.model_selection import train_test_split\n",
    "from sklearn.metrics import f1_score\n",
    "\n",
    "import tensorflow as tf\n",
    "\n",
    "import torch\n",
    "from torch.utils.data import TensorDataset, DataLoader, RandomSampler, SequentialSampler\n",
    "from tqdm.notebook import tqdm\n",
    "from transformers import BertTokenizer, BertForSequenceClassification\n",
    "from transformers import AdamW, get_linear_schedule_with_warmup"
   ]
  },
  {
   "cell_type": "code",
   "execution_count": null,
   "metadata": {
    "id": "Lm7xe2vceE8A"
   },
   "outputs": [],
   "source": [
    "#Methods use to evaluate the model\n",
    "def f1_score_func(preds, labels):\n",
    "    preds_flat = np.argmax(preds, axis=1).flatten()\n",
    "    labels_flat = labels.flatten()\n",
    "    return f1_score(labels_flat, preds_flat, average='macro')\n",
    "\n",
    "def accuracy_per_class(preds, labels):\n",
    "\n",
    "    label_dict_inverse = label_dict\n",
    "    preds_flat = np.argmax(preds, axis=1).flatten()\n",
    "    labels_flat = labels.flatten()\n",
    "\n",
    "    for label in np.unique(labels_flat):\n",
    "        y_preds = preds_flat[labels_flat==label]\n",
    "        y_true = labels_flat[labels_flat==label]\n",
    "        print(f'Class: {label_dict_inverse[label]}')\n",
    "        print(f'Accuracy: {len(y_preds[y_preds==label])}/{len(y_true)}\\n')"
   ]
  },
  {
   "cell_type": "code",
   "execution_count": null,
   "metadata": {
    "id": "vJihfBWNePSS"
   },
   "outputs": [],
   "source": [
    "#Setting GPU\n",
    "if torch.cuda.is_available():    \n",
    "    device = torch.device(\"cuda\")\n",
    "else:\n",
    "    print('No GPU available, using the CPU instead.')\n",
    "    device = torch.device(\"cpu\")"
   ]
  },
  {
   "cell_type": "code",
   "execution_count": null,
   "metadata": {
    "id": "7xk3JBVaCP78"
   },
   "outputs": [],
   "source": [
    "DATA_DEFI_PATH ='/content/gdrive/My Drive/defi-ia-insa-toulouse/'\n",
    "LOGIT_OUTPUT_FILENAME = \"logits_bert_non_preprocessed_data.csv\""
   ]
  },
  {
   "cell_type": "code",
   "execution_count": null,
   "metadata": {
    "id": "bFWHUqGABwTq"
   },
   "outputs": [],
   "source": [
    "non_preprocessed_train = pd.read_json(DATA_DEFI_PATH+\"train.json\").set_index('Id')\n",
    "non_preprocessed_train['Category'] = pd.read_csv(DATA_DEFI_PATH+\"train_label.csv\").set_index('Id') \n",
    " \n",
    "train_label = pd.DataFrame(non_preprocessed_train['Category'], columns=['Category'])\n",
    "label_dict = pd.read_csv(DATA_DEFI_PATH+\"categories_string.csv\")['0'].to_dict()\n",
    "\n",
    "non_preprocessed_train['label_name'] = train_label.Category.replace(label_dict)\n",
    "non_preprocessed_train['label'] =  train_label.Category"
   ]
  },
  {
   "cell_type": "code",
   "execution_count": null,
   "metadata": {
    "id": "hLyoVQMpehQq"
   },
   "outputs": [],
   "source": [
    "seed_val = 23\n",
    "random.seed(seed_val)\n",
    "np.random.seed(seed_val)\n",
    "torch.manual_seed(seed_val)\n",
    "torch.cuda.manual_seed_all(seed_val)\n",
    "tf.random.set_seed(seed_val)"
   ]
  },
  {
   "cell_type": "code",
   "execution_count": null,
   "metadata": {
    "id": "66RRRozif6fS"
   },
   "outputs": [],
   "source": [
    "X_train, X_val, y_train, y_val = train_test_split(non_preprocessed_train.index.values, \n",
    "                                                  non_preprocessed_train.label.values, \n",
    "                                                  test_size=0.20, \n",
    "                                                  random_state=seed_val, \n",
    "                                                  stratify=non_preprocessed_train.label.values)\n",
    "\n",
    "non_preprocessed_train['data_type'] = ['not_set']*non_preprocessed_train.shape[0]\n",
    "\n",
    "non_preprocessed_train.loc[X_train, 'data_type'] = 'train'\n",
    "non_preprocessed_train.loc[X_val, 'data_type'] = 'val'\n",
    "df = non_preprocessed_train"
   ]
  },
  {
   "cell_type": "code",
   "execution_count": null,
   "metadata": {
    "id": "a-NEVRTUEjcH"
   },
   "outputs": [],
   "source": [
    "MAX_LENGTH = 128\n",
    "batch_size = 6\n",
    "epochs = 5\n",
    "\n",
    "# AdamW Optimizer hyperparameters\n",
    "learning_rate = 2e-5\n",
    "eps = 1e-8 \n",
    "\n",
    "tokenizer = BertTokenizer.from_pretrained('bert-base-uncased', do_lower_case=True)\n",
    "                                 \n",
    "encoded_data_train = tokenizer.batch_encode_plus(\n",
    "    df[df.data_type=='train'].description.values, \n",
    "    add_special_tokens=True, \n",
    "    return_attention_mask=True, \n",
    "    pad_to_max_length=True, \n",
    "    truncation=True,\n",
    "    max_length=MAX_LENGTH, \n",
    "    return_tensors='pt'\n",
    ")\n",
    "\n",
    "encoded_data_val = tokenizer.batch_encode_plus(\n",
    "    df[df.data_type=='val'].description.values, \n",
    "    add_special_tokens=True, \n",
    "    return_attention_mask=True, \n",
    "    pad_to_max_length=True, \n",
    "    truncation=True,\n",
    "    max_length=MAX_LENGTH, \n",
    "    return_tensors='pt'\n",
    ")\n",
    "\n",
    "input_ids_train = encoded_data_train['input_ids']\n",
    "attention_masks_train = encoded_data_train['attention_mask']\n",
    "labels_train = torch.tensor(df[df.data_type=='train'].label.values)\n",
    "\n",
    "input_ids_val = encoded_data_val['input_ids']\n",
    "attention_masks_val = encoded_data_val['attention_mask']\n",
    "labels_val = torch.tensor(df[df.data_type=='val'].label.values)\n",
    "\n",
    "dataset_train = TensorDataset(input_ids_train, attention_masks_train, labels_train)\n",
    "dataset_val = TensorDataset(input_ids_val, attention_masks_val, labels_val)"
   ]
  },
  {
   "cell_type": "code",
   "execution_count": null,
   "metadata": {
    "id": "aRHlgWIcgY9N"
   },
   "outputs": [],
   "source": [
    "model = BertForSequenceClassification.from_pretrained(\"bert-base-uncased\",\n",
    "                                                      num_labels=len(label_dict),\n",
    "                                                      output_attentions=False,\n",
    "                                                      output_hidden_states=False)\n",
    "\n",
    "\n",
    "dataloader_train = DataLoader(dataset_train, \n",
    "                              sampler=RandomSampler(dataset_train), \n",
    "                              batch_size=batch_size)\n",
    "\n",
    "dataloader_validation = DataLoader(dataset_val, \n",
    "                                   sampler=SequentialSampler(dataset_val), \n",
    "                                   batch_size=batch_size)\n",
    "\n",
    "\n",
    "optimizer = AdamW(model.parameters(), lr=learning_rate, eps=eps)\n",
    "         \n",
    "\n",
    "\n",
    "scheduler = get_linear_schedule_with_warmup(optimizer, num_warmup_steps=0, num_training_steps=len(dataloader_train)*epochs)"
   ]
  },
  {
   "cell_type": "code",
   "execution_count": null,
   "metadata": {
    "id": "nF1Vru7jClL_"
   },
   "outputs": [],
   "source": [
    "def evaluate(dataloader_val):\n",
    "\n",
    "    model.eval()\n",
    "    model.to(device)\n",
    "    loss_val_total = 0\n",
    "    predictions, true_vals = [], []\n",
    "    \n",
    "    for batch in dataloader_val:\n",
    "        \n",
    "        batch = tuple(b.to(device) for b in batch)\n",
    "        \n",
    "        inputs = {'input_ids':      batch[0] ,\n",
    "                  'attention_mask': batch[1] ,\n",
    "                  'labels':         batch[2] ,\n",
    "                 }\n",
    "\n",
    "        with torch.no_grad():        \n",
    "            outputs = model(**inputs)\n",
    "            \n",
    "        loss = outputs[0]\n",
    "        logits = outputs[1]\n",
    "        loss_val_total += loss.item()\n",
    "\n",
    "        logits = logits.detach().cpu().numpy()\n",
    "        label_ids = inputs['labels'].cpu().numpy()\n",
    "        predictions.append(logits)\n",
    "        true_vals.append(label_ids)\n",
    "    \n",
    "    loss_val_avg = loss_val_total/len(dataloader_val) \n",
    "    \n",
    "    predictions = np.concatenate(predictions, axis=0)\n",
    "    true_vals = np.concatenate(true_vals, axis=0)\n",
    "            \n",
    "    return loss_val_avg, predictions, true_vals"
   ]
  },
  {
   "cell_type": "code",
   "execution_count": null,
   "metadata": {
    "id": "ln1N5eTqGM7Z"
   },
   "outputs": [],
   "source": [
    "#TRAINING AND SAVING THE MODEL BY EPOCH\n",
    "lista_loss_train = []\n",
    "lista_loss_val = []\n",
    "lista_f1_val = []    \n",
    "for epoch in tqdm(range(1, epochs+1)):\n",
    "    \n",
    "    model.train()\n",
    "    model.to(device)\n",
    "    loss_train_total = 0\n",
    "\n",
    "    progress_bar = tqdm(dataloader_train, desc='Epoch {:1d}'.format(epoch), leave=False, disable=False)\n",
    "    for batch in progress_bar:\n",
    "\n",
    "        model.zero_grad()\n",
    "        \n",
    "        batch = tuple(b.to(device) for b in batch)\n",
    "                      \n",
    "        inputs = {'input_ids':      batch[0] ,\n",
    "                  'attention_mask': batch[1] ,\n",
    "                  'labels':         batch[2] ,\n",
    "                 }       \n",
    "\n",
    "        outputs = model(**inputs)\n",
    "                 \n",
    "        loss = outputs[0]\n",
    "        loss_train_total += loss.item()\n",
    "        loss.backward()\n",
    "\n",
    "        torch.nn.utils.clip_grad_norm_(model.parameters(), 1.0)\n",
    "\n",
    "        optimizer.step()\n",
    "        scheduler.step()\n",
    "        \n",
    "        progress_bar.set_postfix({'training_loss': '{:.3f}'.format(loss.item()/len(batch))})\n",
    "         \n",
    "         \n",
    "    torch.save(model.state_dict(), f'./finetuned_BERT_NONPREPROCESSDATA_{epoch}.model')\n",
    "        \n",
    "    tqdm.write(f'\\nEpoch {epoch}')\n",
    "    \n",
    "    loss_train_avg = loss_train_total/len(dataloader_train)            \n",
    "    tqdm.write(f'Training loss: {loss_train_avg}')\n",
    "    \n",
    "    val_loss, predictions, true_vals = evaluate(dataloader_validation)\n",
    "    val_f1 = f1_score_func(predictions, true_vals)\n",
    "    \n",
    "    #Uncomment in case you want to generate the .csv file with all the ouputs\n",
    "    #lista_loss_train.append(loss_train_avg)\n",
    "    #lista_loss_val.append(val_loss)\n",
    "    #lista_f1_val.append(val_f1)   \n",
    "    \n",
    "    #out = np.array([lista_loss_train,lista_loss_val,lista_f1_val])\n",
    "    #out_df = pd.DataFrame(out.T, columns=['train_loss','val_loss','val_f1'])\n",
    "    #out_df.to_csv('resultsByEpoch.csv',  index=False)\n",
    "    \n",
    "    tqdm.write(f'Validation loss: {val_loss}')\n",
    "    tqdm.write(f'F1 Score (Macro): {val_f1}')"
   ]
  },
  {
   "cell_type": "markdown",
   "metadata": {
    "id": "YpLJGSWH7LLW"
   },
   "source": [
    "## LOAD BEST MODEL AND FINAL TEST FILE\n",
    "\n",
    "\n",
    "*   Storing logits in a csv file for  future use."
   ]
  },
  {
   "cell_type": "code",
   "execution_count": null,
   "metadata": {
    "id": "l0tb2aiph550"
   },
   "outputs": [],
   "source": [
    "BEST_MODEL_PATH = \"./data_volume/finetuned_BERT_NONPREPROCESSDATA_1.model\""
   ]
  },
  {
   "cell_type": "code",
   "execution_count": null,
   "metadata": {
    "id": "xmxHUunk7K0Q"
   },
   "outputs": [],
   "source": [
    "non_preprocessed_test = pd.read_json(DATA_DEFI_PATH+\"test.json\").set_index('Id')\n",
    "label_dict = pd.read_csv(DATA_DEFI_PATH+\"categories_string.csv\")['0'].to_dict()"
   ]
  },
  {
   "cell_type": "code",
   "execution_count": null,
   "metadata": {
    "colab": {
     "base_uri": "https://localhost:8080/"
    },
    "executionInfo": {
     "elapsed": 8716,
     "status": "ok",
     "timestamp": 1610226674636,
     "user": {
      "displayName": "Levi Martins",
      "photoUrl": "https://lh3.googleusercontent.com/a-/AOh14GhCzWliTNCNSl8P8iQ3is3Qa2F0Rb2Uni-H7MnfuEg=s64",
      "userId": "12560956575705227821"
     },
     "user_tz": -60
    },
    "id": "BHdh-OFB868j",
    "outputId": "7ec10da3-bd36-4977-da64-6c6398f2e27d"
   },
   "outputs": [
    {
     "name": "stderr",
     "output_type": "stream",
     "text": [
      "Some weights of the model checkpoint at bert-base-uncased were not used when initializing BertForSequenceClassification: ['cls.predictions.bias', 'cls.predictions.transform.dense.weight', 'cls.predictions.transform.dense.bias', 'cls.predictions.decoder.weight', 'cls.seq_relationship.weight', 'cls.seq_relationship.bias', 'cls.predictions.transform.LayerNorm.weight', 'cls.predictions.transform.LayerNorm.bias']\n",
      "- This IS expected if you are initializing BertForSequenceClassification from the checkpoint of a model trained on another task or with another architecture (e.g. initializing a BertForSequenceClassification model from a BertForPreTraining model).\n",
      "- This IS NOT expected if you are initializing BertForSequenceClassification from the checkpoint of a model that you expect to be exactly identical (initializing a BertForSequenceClassification model from a BertForSequenceClassification model).\n",
      "Some weights of BertForSequenceClassification were not initialized from the model checkpoint at bert-base-uncased and are newly initialized: ['classifier.weight', 'classifier.bias']\n",
      "You should probably TRAIN this model on a down-stream task to be able to use it for predictions and inference.\n"
     ]
    },
    {
     "data": {
      "text/plain": [
       "<All keys matched successfully>"
      ]
     },
     "execution_count": 21,
     "metadata": {
      "tags": []
     },
     "output_type": "execute_result"
    }
   ],
   "source": [
    "model = BertForSequenceClassification.from_pretrained(\"bert-base-uncased\",\n",
    "                                                      num_labels=len(label_dict),\n",
    "                                                      output_attentions=False,\n",
    "                                                      output_hidden_states=False)\n",
    "\n",
    "\n",
    "model.load_state_dict(torch.load(BEST_MODEL_PATH, map_location=torch.device('cpu')))"
   ]
  },
  {
   "cell_type": "code",
   "execution_count": null,
   "metadata": {
    "id": "a5VI3iD872tZ"
   },
   "outputs": [],
   "source": [
    "df  = non_preprocessed_test\n",
    "\n",
    "MAX_LENGTH = 128 \n",
    "tokenizer = BertTokenizer.from_pretrained('bert-base-uncased', do_lower_case=True)\n",
    "\n",
    "encoded_data_test = tokenizer.batch_encode_plus(\n",
    "    df.description.values, \n",
    "    add_special_tokens=True, \n",
    "    return_attention_mask=True, \n",
    "    pad_to_max_length=True, \n",
    "    truncation=True,\n",
    "    max_length=MAX_LENGTH, \n",
    "    return_tensors='pt'\n",
    ")\n",
    "\n",
    "input_ids_test = encoded_data_test['input_ids']\n",
    "attention_masks_test = encoded_data_test['attention_mask']\n",
    "\n",
    "dataset_test = TensorDataset(input_ids_test, attention_masks_test)\n",
    "\n",
    "dataloader_test = DataLoader(dataset_test, batch_size=1)\n",
    "\n",
    "\n",
    "model.eval()\n",
    "model.to(device)\n",
    "predictions = []\n",
    "\n",
    "for batch in dataloader_test:\n",
    "    #batch = tuple(b.to(device) for b in batch)\n",
    "    batch = tuple(b.to(device) for b in batch)\n",
    "\n",
    "    inputs = {'input_ids':      batch[0] ,\n",
    "              'attention_mask': batch[1]             \n",
    "             }\n",
    "    \n",
    "    with torch.no_grad(): \n",
    "        outputs = model(**inputs)\n",
    "        \n",
    "        logits = outputs[0]\n",
    "        logits = logits.detach().cpu().numpy()\n",
    "        predictions.append(logits)\n",
    "        \n",
    "# Saving Logits in a .csv File\n",
    "predictions_logits = np.asarray(predictions)\n",
    "predictions_logits = predictions_logits.reshape(1,54300,28)\n",
    "predictions_logits = np.squeeze(predictions_logits)\n",
    "data_logits = pd.DataFrame(predictions_logits)  \n",
    "data_logits.to_csv(LOGIT_OUTPUT_FILENAME, index=False)"
   ]
  },
  {
   "cell_type": "code",
   "execution_count": null,
   "metadata": {
    "id": "0jWTK7nMi-s6"
   },
   "outputs": [],
   "source": [
    "#====================================================\n",
    "# Generating output file for Kaggle submission\n",
    "#predictions = np.concatenate(predictions, axis=0)\n",
    "#preds_flat = np.argmax(predictions, axis=1).flatten()\n",
    "#final_df = pd.DataFrame()\n",
    "#final_df['Id'] = non_preprocessed_test.index\n",
    "#final_df[\"Category\"] = preds_flat\n",
    "#file = final_df[['Id','Category']]\n",
    "#file.to_csv(\"/kaggle/working/bertModelNonPreprocessed.csv\", index=False)\n",
    "#===================================================="
   ]
  }
 ],
 "metadata": {
  "colab": {
   "collapsed_sections": [],
   "name": "BERT_raw_data.ipynb",
   "provenance": []
  },
  "kernelspec": {
   "display_name": "Python 3",
   "language": "python",
   "name": "python3"
  },
  "language_info": {
   "codemirror_mode": {
    "name": "ipython",
    "version": 3
   },
   "file_extension": ".py",
   "mimetype": "text/x-python",
   "name": "python",
   "nbconvert_exporter": "python",
   "pygments_lexer": "ipython3",
   "version": "3.8.3"
  }
 },
 "nbformat": 4,
 "nbformat_minor": 1
}
