{
 "cells": [
  {
   "cell_type": "markdown",
   "metadata": {
    "id": "YKbiPTLXTNAy"
   },
   "source": [
    "**DATA SET**: Preprocessed\n",
    "\n",
    "**Model Bert**: xlnet-large-cased\n",
    "\n",
    "**Kaggle Score**: 0.80056\n",
    "\n",
    "**Fairness**: 4.018427328634315\n",
    "\n",
    "Best model was acquired in the **2nd Epoch**:\n",
    "\n",
    "* Epoch 2\n",
    "* Training loss: 0.4230330991769693\n",
    "* Validation loss: 0.5164879810130868\n",
    "* |TL - VL| = 0,093\n",
    "* F1 Score (Macro): 0.8040242687890155\n",
    "\n",
    "\n",
    "\n",
    "**Installing transformers:**\n",
    "\n",
    "* pip install transformers[sentencepiece]"
   ]
  },
  {
   "cell_type": "markdown",
   "metadata": {
    "id": "3t-r3ZUPW08p"
   },
   "source": [
    "**References**:\n",
    "\n",
    "\n",
    "*   [XLNet: Generalized Autoregressive Pretraining for Language Understanding](https://arxiv.org/pdf/1906.08237.pdf)\n",
    "*   [XLNet](https://huggingface.co/transformers/model_doc/xlnet.html#) \n",
    "*   [XLNet For Sequence Classification](https://huggingface.co/transformers/model_doc/xlnet.html#xlnetforsequenceclassification)\n",
    "* [XLNet Fine Tuning](https://mccormickml.com/2019/09/19/XLNet-fine-tuning/)\n"
   ]
  },
  {
   "cell_type": "code",
   "execution_count": null,
   "metadata": {
    "id": "gMFs1W2HTI6w"
   },
   "outputs": [],
   "source": [
    "import pandas as pd\n",
    "import numpy as np\n",
    "import random\n",
    "\n",
    "\n",
    "from sklearn.model_selection import train_test_split\n",
    "from sklearn.metrics import f1_score\n",
    "\n",
    "import tensorflow as tf\n",
    "\n",
    "import torch\n",
    "from torch.utils.data import TensorDataset\n",
    "from torch.utils.data import DataLoader, RandomSampler, SequentialSampler\n",
    "from tqdm.notebook import tqdm\n",
    "\n",
    "from transformers import XLNetConfig, XLNetForSequenceClassification, XLNetTokenizer\n",
    "from transformers import AdamW, get_linear_schedule_with_warmup"
   ]
  },
  {
   "cell_type": "code",
   "execution_count": null,
   "metadata": {
    "id": "KYtnx82wTI3V"
   },
   "outputs": [],
   "source": [
    "#Methods use to evaluate the model\n",
    "def f1_score_func(preds, labels):\n",
    "    preds_flat = np.argmax(preds, axis=1).flatten()\n",
    "    labels_flat = labels.flatten()\n",
    "    return f1_score(labels_flat, preds_flat, average='macro')\n",
    "\n",
    "def accuracy_per_class(preds, labels):\n",
    "    label_dict_inverse = label_dict\n",
    "    preds_flat = np.argmax(preds, axis=1).flatten()\n",
    "    labels_flat = labels.flatten()\n",
    "\n",
    "    for label in np.unique(labels_flat):\n",
    "        y_preds = preds_flat[labels_flat==label]\n",
    "        y_true = labels_flat[labels_flat==label]\n",
    "        print(f'Class: {label_dict_inverse[label]}')\n",
    "        print(f'Accuracy: {len(y_preds[y_preds==label])}/{len(y_true)}\\n')\n",
    "\n",
    "def macro_disparate_impact(X, y):\n",
    "\n",
    "    jobs = y['Category']\n",
    "    jobs = jobs.map(names)\n",
    "    jobs = jobs.rename('job')\n",
    "    \n",
    "    genders = X['gender']\n",
    "\n",
    "    people = pd.concat((jobs, genders), axis='columns')\n",
    "    \n",
    "    counts = people.groupby(['job', 'gender']).size().unstack('gender')\n",
    "    counts['disparate_impact'] = counts[['M', 'F']].max(axis='columns') / counts[['M', 'F']].min(axis='columns')\n",
    "    \n",
    "    return counts['disparate_impact'].mean()"
   ]
  },
  {
   "cell_type": "code",
   "execution_count": null,
   "metadata": {
    "id": "nXorOLRFTI0b"
   },
   "outputs": [],
   "source": [
    "#Setting GPU\n",
    "if torch.cuda.is_available():    \n",
    "    device = torch.device(\"cuda\")\n",
    "else:\n",
    "    print('No GPU available, using the CPU instead.')\n",
    "    device = torch.device(\"cpu\")"
   ]
  },
  {
   "cell_type": "code",
   "execution_count": null,
   "metadata": {
    "id": "Vw6xiRqETIxq"
   },
   "outputs": [],
   "source": [
    "DATA_PATH = \"../input/\"\n",
    "DATA_DEFI_PATH = \"/kaggle/input/defiiainsatoulouse/\"\n",
    "LOGIT_OUTPUT_FILENAME = \"logits_xlnetlarge_preprocessed_data.csv\""
   ]
  },
  {
   "cell_type": "code",
   "execution_count": null,
   "metadata": {
    "id": "tWcfWTfwTIu8"
   },
   "outputs": [],
   "source": [
    "preprocessed_train = pd.read_csv(DATA_PATH+\"PreprocessedDataTrain.csv\")\n",
    "preprocessed_train= preprocessed_train.drop(['description'], axis = 1)\n",
    "preprocessed_train = preprocessed_train.rename(columns = {'cleaned_Data':'description'}) \n",
    "\n",
    "train_label = pd.DataFrame(preprocessed_train['Category'], columns=['Category'])\n",
    "label_dict = pd.read_csv(DATA_DEFI_PATH+\"categories_string.csv\")['0'].to_dict()\n",
    "\n",
    "preprocessed_train['label_name'] = train_label.Category.replace(label_dict)\n",
    "preprocessed_train['label'] =  train_label.Category"
   ]
  },
  {
   "cell_type": "code",
   "execution_count": null,
   "metadata": {
    "id": "KbHfPITgTIsK"
   },
   "outputs": [],
   "source": [
    "seed_val = 23\n",
    "random.seed(seed_val)\n",
    "np.random.seed(seed_val)\n",
    "torch.manual_seed(seed_val)\n",
    "torch.cuda.manual_seed_all(seed_val)\n",
    "tf.random.set_seed(seed_val)"
   ]
  },
  {
   "cell_type": "code",
   "execution_count": null,
   "metadata": {
    "id": "cHVRs8zOTIpR"
   },
   "outputs": [],
   "source": [
    "X_train, X_val, y_train, y_val = train_test_split(preprocessed_train.index.values, \n",
    "                                                  preprocessed_train.label.values, \n",
    "                                                  test_size=0.20, \n",
    "                                                  random_state=seed_val, \n",
    "                                                  stratify=preprocessed_train.label.values)\n",
    "\n",
    "preprocessed_train['data_type'] = ['not_set']*preprocessed_train.shape[0]\n",
    "preprocessed_train.loc[X_train, 'data_type'] = 'train'\n",
    "preprocessed_train.loc[X_val, 'data_type'] = 'val'\n",
    "\n",
    "df = preprocessed_train"
   ]
  },
  {
   "cell_type": "code",
   "execution_count": null,
   "metadata": {
    "id": "DqVtQGGHTInC"
   },
   "outputs": [],
   "source": [
    "MAX_LENGTH = 60 \n",
    "batch_size = 13   \n",
    "epochs = 2\n",
    "\n",
    "# AdamW Optimizer hyperparameters\n",
    "learning_rate = 2e-5\n",
    "eps = 1e-8 \n",
    "\n",
    "\n",
    "tokenizer = XLNetTokenizer.from_pretrained('xlnet-large-cased')\n",
    "                                 \n",
    "encoded_data_train = tokenizer.batch_encode_plus(\n",
    "    df[df.data_type=='train'].description.values, \n",
    "    add_special_tokens=True, \n",
    "    return_attention_mask=True, \n",
    "    pad_to_max_length=True, \n",
    "    truncation=True,\n",
    "    max_length=MAX_LENGTH, \n",
    "    return_tensors='pt'\n",
    ")\n",
    "\n",
    "encoded_data_val = tokenizer.batch_encode_plus(\n",
    "    df[df.data_type=='val'].description.values, \n",
    "    add_special_tokens=True, \n",
    "    return_attention_mask=True, \n",
    "    pad_to_max_length=True, \n",
    "    truncation=True,\n",
    "    max_length=MAX_LENGTH, \n",
    "    return_tensors='pt'\n",
    ")\n",
    "\n",
    "input_ids_train = encoded_data_train['input_ids']\n",
    "attention_masks_train = encoded_data_train['attention_mask']\n",
    "labels_train = torch.tensor(df[df.data_type=='train'].label.values)\n",
    "\n",
    "input_ids_val = encoded_data_val['input_ids']\n",
    "attention_masks_val = encoded_data_val['attention_mask']\n",
    "labels_val = torch.tensor(df[df.data_type=='val'].label.values)\n",
    "\n",
    "dataset_train = TensorDataset(input_ids_train, attention_masks_train, labels_train)\n",
    "dataset_val = TensorDataset(input_ids_val, attention_masks_val, labels_val)"
   ]
  },
  {
   "cell_type": "code",
   "execution_count": null,
   "metadata": {
    "id": "TEgwierYTIj4"
   },
   "outputs": [],
   "source": [
    "model = XLNetForSequenceClassification.from_pretrained(\"xlnet-large-cased\",\n",
    "                                                      num_labels=len(label_dict),\n",
    "                                                      output_attentions=False,\n",
    "                                                      output_hidden_states=False)\n",
    "\n",
    "\n",
    "dataloader_train = DataLoader(dataset_train, \n",
    "                              sampler=RandomSampler(dataset_train), \n",
    "                              batch_size=batch_size)\n",
    "\n",
    "dataloader_validation = DataLoader(dataset_val, \n",
    "                                   sampler=SequentialSampler(dataset_val), \n",
    "                                   batch_size=batch_size)\n",
    "\n",
    "\n",
    "optimizer = AdamW(model.parameters(), lr=learning_rate, eps=eps)\n",
    "         \n",
    "\n",
    "scheduler = get_linear_schedule_with_warmup(optimizer, \n",
    "                                            num_warmup_steps=0,\n",
    "                                            num_training_steps=len(dataloader_train)*epochs)"
   ]
  },
  {
   "cell_type": "code",
   "execution_count": null,
   "metadata": {
    "id": "FilzWe2vTIhY"
   },
   "outputs": [],
   "source": [
    "def evaluate(dataloader_val):\n",
    "\n",
    "    model.eval()\n",
    "    model.to(device)\n",
    "    loss_val_total = 0\n",
    "    predictions, true_vals = [], []\n",
    "    \n",
    "    for batch in dataloader_val:\n",
    "        \n",
    "        batch = tuple(b.to(device) for b in batch)\n",
    "        \n",
    "        inputs = {'input_ids':      batch[0] ,\n",
    "                  'attention_mask': batch[1] ,\n",
    "                  'labels':         batch[2] ,\n",
    "                 }\n",
    "\n",
    "        with torch.no_grad():        \n",
    "            outputs = model(**inputs)\n",
    "            \n",
    "        loss = outputs[0]\n",
    "        logits = outputs[1]\n",
    "        loss_val_total += loss.item()\n",
    "\n",
    "        logits = logits.detach().cpu().numpy()\n",
    "        label_ids = inputs['labels'].cpu().numpy()\n",
    "        predictions.append(logits)\n",
    "        true_vals.append(label_ids)\n",
    "    \n",
    "    loss_val_avg = loss_val_total/len(dataloader_val) \n",
    "    \n",
    "    predictions = np.concatenate(predictions, axis=0)\n",
    "    true_vals = np.concatenate(true_vals, axis=0)\n",
    "            \n",
    "    return loss_val_avg, predictions, true_vals"
   ]
  },
  {
   "cell_type": "code",
   "execution_count": null,
   "metadata": {
    "id": "1AH90gDoTIer"
   },
   "outputs": [],
   "source": [
    "#TRAINING AND SAVING THE MODEL BY EPOCH\n",
    "lista_loss_train = []\n",
    "lista_loss_val = []\n",
    "lista_f1_val = []    \n",
    "for epoch in tqdm(range(0, epochs+1)):\n",
    "    \n",
    "    model.train()\n",
    "    model.to(device)\n",
    "    loss_train_total = 0\n",
    "\n",
    "    progress_bar = tqdm(dataloader_train, desc='Epoch {:1d}'.format(epoch), leave=False, disable=False)\n",
    "    for batch in progress_bar:\n",
    "\n",
    "        model.zero_grad()\n",
    "        \n",
    "        batch = tuple(b.to(device) for b in batch)\n",
    "               \n",
    "        inputs = {'input_ids':      batch[0] ,\n",
    "                  'attention_mask': batch[1] ,\n",
    "                  'labels':         batch[2] ,\n",
    "                 }       \n",
    "\n",
    "        outputs = model(**inputs)\n",
    "        \n",
    "        loss = outputs[0]\n",
    "        loss_train_total += loss.item()\n",
    "        loss.backward()\n",
    "\n",
    "        torch.nn.utils.clip_grad_norm_(model.parameters(), 1.0)\n",
    "\n",
    "        optimizer.step()\n",
    "        scheduler.step()\n",
    "        \n",
    "        progress_bar.set_postfix({'training_loss': '{:.3f}'.format(loss.item()/len(batch))})\n",
    "         \n",
    "        \n",
    "    torch.save(model.state_dict(), f'./finetuned_XLNetLarge_epoch_{epoch}.model')\n",
    "        \n",
    "    tqdm.write(f'\\nEpoch {epoch}')\n",
    "    \n",
    "    loss_train_avg = loss_train_total/len(dataloader_train)            \n",
    "    tqdm.write(f'Training loss: {loss_train_avg}')\n",
    "    \n",
    "    val_loss, predictions, true_vals = evaluate(dataloader_validation)\n",
    "    val_f1 = f1_score_func(predictions, true_vals)\n",
    "    \n",
    "    #Uncomment in case you want to generate the .csv file with all the ouputs\n",
    "    #lista_loss_train.append(loss_train_avg)\n",
    "    #lista_loss_val.append(val_loss)\n",
    "    #lista_f1_val.append(val_f1)   \n",
    "    \n",
    "    #out = np.array([lista_loss_train,lista_loss_val,lista_f1_val])\n",
    "    #out_df = pd.DataFrame(out.T, columns=['train_loss','val_loss','val_f1'])\n",
    "    #out_df.to_csv('resultsByEpoch.csv',  index=False)\n",
    "    \n",
    "    tqdm.write(f'Validation loss: {val_loss}')\n",
    "    tqdm.write(f'F1 Score (Macro): {val_f1}')"
   ]
  },
  {
   "cell_type": "markdown",
   "metadata": {
    "id": "_Aw7eokaaRtA"
   },
   "source": [
    "**Epoch 1**\n",
    "* Training loss: 0.6380973541563716\n",
    "* Validation loss: 0.545291800611544\n",
    "* |TL - VL| = 0,0928\n",
    "* F1 Score (Macro): 0.7911783214422677\n",
    "\n",
    "\n",
    "**Epoch 2**\n",
    "* Training loss: 0.4230330991769693\n",
    "* Validation loss: 0.5164879810130868\n",
    "* |TL - VL| = 0,0934\n",
    "* F1 Score (Macro): 0.8040242687890155"
   ]
  },
  {
   "cell_type": "markdown",
   "metadata": {
    "id": "Jscx23gaa0wf"
   },
   "source": [
    "# LOADING BEST MODEL"
   ]
  },
  {
   "cell_type": "code",
   "execution_count": null,
   "metadata": {
    "id": "w9R-BNkCTIby"
   },
   "outputs": [],
   "source": [
    "## LOADING BEST MODEL AND OUTPUTTING ACCURACY IN VALIDATION SET\n",
    "\n",
    "BEST_MODEL_PATH = \"./data_volume/finetuned_XLNetLarge_epoch_2.model\"\n",
    "\n",
    "model = XLNetForSequenceClassification.from_pretrained(\"xlnet-large-cased\",\n",
    "                                                      num_labels=len(label_dict),\n",
    "                                                      output_attentions=False,\n",
    "                                                      output_hidden_states=False)\n",
    "\n",
    "model.to(device)\n",
    "\n",
    "model.load_state_dict(torch.load(BEST_MODEL_PATH, map_location=torch.device('cpu')))\n",
    "\n",
    "_, predictions, true_vals = evaluate(dataloader_validation)\n",
    "accuracy_per_class(predictions, true_vals)"
   ]
  },
  {
   "cell_type": "markdown",
   "metadata": {
    "id": "tgRsr3IqbgLW"
   },
   "source": [
    "## LOAD FINAL TEST FILE\n",
    "\n",
    "\n",
    "*   Storing logits in a csv file for  future use."
   ]
  },
  {
   "cell_type": "code",
   "execution_count": null,
   "metadata": {
    "id": "MEv4PfRjTIZN"
   },
   "outputs": [],
   "source": [
    "preprocessed_test = pd.read_csv(DATA_PATH+\"PreprocessedDataTest.csv\") \n",
    "preprocessed_test= preprocessed_test.drop(['description'], axis = 1)\n",
    "preprocessed_test = preprocessed_test.rename(columns = {'cleaned_Data':'description'}) "
   ]
  },
  {
   "cell_type": "code",
   "execution_count": null,
   "metadata": {
    "id": "-3h19URGTIWg"
   },
   "outputs": [],
   "source": [
    "df  = preprocessed_test\n",
    "\n",
    "encoded_data_test = tokenizer.batch_encode_plus(\n",
    "    df.description.values, \n",
    "    add_special_tokens=True, \n",
    "    return_attention_mask=True, \n",
    "    pad_to_max_length=True, \n",
    "    truncation=True,\n",
    "    max_length=MAX_LENGTH, \n",
    "    return_tensors='pt'\n",
    ")\n",
    "\n",
    "input_ids_test = encoded_data_test['input_ids']\n",
    "attention_masks_test = encoded_data_test['attention_mask']\n",
    "\n",
    "dataset_test = TensorDataset(input_ids_test, attention_masks_test)\n",
    "dataloader_test = DataLoader(dataset_test, batch_size=1)\n",
    "\n",
    "model.eval()\n",
    "model.to(device)\n",
    "predictions = []\n",
    "\n",
    "for batch in dataloader_test:\n",
    "    batch = tuple(b.to(device) for b in batch)\n",
    "\n",
    "    inputs = {'input_ids':      batch[0] ,\n",
    "              'attention_mask': batch[1]             \n",
    "             }\n",
    "    \n",
    "    with torch.no_grad(): \n",
    "        outputs = model(**inputs)\n",
    "        \n",
    "        logits = outputs[0]\n",
    "        logits = logits.detach().cpu().numpy()\n",
    "        predictions.append(logits)\n",
    "\n",
    "\n",
    "\n",
    "# Saving Logits in a .csv File\n",
    "predictions_logits = np.asarray(predictions)\n",
    "predictions_logits = predictions_logits.reshape(1,54300,28)\n",
    "predictions_logits = np.squeeze(predictions_logits)\n",
    "data_logits = pd.DataFrame(predictions_logits)  \n",
    "data_logits.to_csv(LOGIT_OUTPUT_FILENAME, index=False)\n",
    "\n",
    "#====================================================\n",
    "# Generating output file for Kaggle submission\n",
    "#predictions = np.concatenate(predictions, axis=0)\n",
    "#preds_flat = np.argmax(predictions, axis=1).flatten()\n",
    "#final_df = pd.DataFrame()\n",
    "#final_df['Id'] = preprocessed_test.index\n",
    "#final_df[\"Category\"] = preds_flat\n",
    "#file = final_df[['Id','Category']]\n",
    "#file.to_csv(\"/kaggle/working/XLNetLargeModelYogeshiDB.csv\", index=False)\n",
    "#KAGGLE 0.8004\n",
    "#===================================================="
   ]
  }
 ],
 "metadata": {
  "accelerator": "GPU",
  "colab": {
   "collapsed_sections": [],
   "name": "XLNetLarge_preprocessedata.ipynb",
   "provenance": []
  },
  "kernelspec": {
   "display_name": "Python 3",
   "language": "python",
   "name": "python3"
  },
  "language_info": {
   "codemirror_mode": {
    "name": "ipython",
    "version": 3
   },
   "file_extension": ".py",
   "mimetype": "text/x-python",
   "name": "python",
   "nbconvert_exporter": "python",
   "pygments_lexer": "ipython3",
   "version": "3.8.3"
  }
 },
 "nbformat": 4,
 "nbformat_minor": 1
}
